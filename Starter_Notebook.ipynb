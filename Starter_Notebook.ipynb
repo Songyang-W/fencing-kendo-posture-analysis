{
  "nbformat": 4,
  "nbformat_minor": 0,
  "metadata": {
    "colab": {
      "provenance": [],
      "authorship_tag": "ABX9TyPcg8oCc6EABvK9ypr3qfeo",
      "include_colab_link": true
    },
    "kernelspec": {
      "name": "python3",
      "display_name": "Python 3"
    },
    "language_info": {
      "name": "python"
    }
  },
  "cells": [
    {
      "cell_type": "markdown",
      "metadata": {
        "id": "view-in-github",
        "colab_type": "text"
      },
      "source": [
        "<a href=\"https://colab.research.google.com/github/Songyang-W/fencing-kendo-posture-analysis/blob/main/Starter_Notebook.ipynb\" target=\"_parent\"><img src=\"https://colab.research.google.com/assets/colab-badge.svg\" alt=\"Open In Colab\"/></a>"
      ]
    },
    {
      "cell_type": "code",
      "execution_count": null,
      "metadata": {
        "id": "RCij-dFRZS0m"
      },
      "outputs": [],
      "source": [
        "# --- Step 1: Install dependencies ---\n",
        "!pip install mediapipe opencv-python matplotlib\n",
        "\n",
        "# --- Step 2: Imports ---\n",
        "import cv2\n",
        "import mediapipe as mp\n",
        "import matplotlib.pyplot as plt\n",
        "\n",
        "# Initialize MediaPipe pose\n",
        "mp_pose = mp.solutions.pose\n",
        "pose = mp_pose.Pose(static_image_mode=True, min_detection_confidence=0.5)\n",
        "mp_drawing = mp.solutions.drawing_utils\n",
        "\n",
        "# --- Step 3: Load a sample frame ---\n",
        "# Replace with your fencing/kendo video frame\n",
        "img_path = \"sample_fencing.jpg\"  # put this in your /examples folder\n",
        "image = cv2.imread(img_path)\n",
        "image_rgb = cv2.cvtColor(image, cv2.COLOR_BGR2RGB)\n",
        "\n",
        "# --- Step 4: Run pose detection ---\n",
        "results = pose.process(image_rgb)\n",
        "\n",
        "# --- Step 5: Draw skeleton overlay ---\n",
        "if results.pose_landmarks:\n",
        "    mp_drawing.draw_landmarks(\n",
        "        image_rgb,\n",
        "        results.pose_landmarks,\n",
        "        mp_pose.POSE_CONNECTIONS\n",
        "    )\n",
        "\n",
        "# --- Step 6: Show result ---\n",
        "plt.figure(figsize=(6,6))\n",
        "plt.imshow(image_rgb)\n",
        "plt.axis('off')\n",
        "plt.show()"
      ]
    }
  ]
}